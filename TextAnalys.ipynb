{
  "nbformat": 4,
  "nbformat_minor": 0,
  "metadata": {
    "colab": {
      "provenance": [],
      "gpuType": "T4",
      "authorship_tag": "ABX9TyO9tgZTAr4bZiuuftsnJj2l",
      "include_colab_link": true
    },
    "kernelspec": {
      "name": "python3",
      "display_name": "Python 3"
    },
    "language_info": {
      "name": "python"
    },
    "accelerator": "GPU"
  },
  "cells": [
    {
      "cell_type": "markdown",
      "metadata": {
        "id": "view-in-github",
        "colab_type": "text"
      },
      "source": [
        "<a href=\"https://colab.research.google.com/github/Merostoroloji/VC/blob/main/TextAnalys.ipynb\" target=\"_parent\"><img src=\"https://colab.research.google.com/assets/colab-badge.svg\" alt=\"Open In Colab\"/></a>"
      ]
    },
    {
      "cell_type": "code",
      "execution_count": 1,
      "metadata": {
        "id": "_oz5uyoxvmbn"
      },
      "outputs": [],
      "source": [
        "import numpy as np\n",
        "import pandas as pd\n",
        "import matplotlib.pyplot as plt\n",
        "\n",
        "import tensorflow as tf\n",
        "from tensorflow import keras\n",
        "from tensorflow.keras import layers"
      ]
    },
    {
      "cell_type": "code",
      "source": [
        "from sklearn.datasets import fetch_20newsgroups\n",
        "\n",
        "documents_train = fetch_20newsgroups(\n",
        "    subset = \"train\",\n",
        "    categories = [\"comp.graphics\", \"comp.windows.x\", \"rec.autos\", \"sci.space\"]\n",
        ")\n",
        "\n",
        "documents_test = fetch_20newsgroups(\n",
        "    subset = \"test\",\n",
        "    categories = [\"comp.graphics\", \"comp.windows.x\", \"rec.autos\", \"sci.space\"]\n",
        ")"
      ],
      "metadata": {
        "id": "T4cH2Qki1MBU"
      },
      "execution_count": 2,
      "outputs": []
    },
    {
      "cell_type": "code",
      "source": [
        "from sklearn.feature_extraction.text import CountVectorizer\n",
        "\n",
        "vectorizer = CountVectorizer()\n",
        "\n",
        "vectorizer.fit(documents_train[\"data\"])\n",
        "\n",
        "X_train = vectorizer.transform(documents_train[\"data\"])\n",
        "X_test = vectorizer.transform(documents_test[\"data\"])\n",
        "\n",
        "y_train = documents_train[\"target\"]\n",
        "y_test = documents_test[\"target\"]"
      ],
      "metadata": {
        "id": "MiMXwSFR1SkL"
      },
      "execution_count": 3,
      "outputs": []
    },
    {
      "cell_type": "code",
      "source": [
        "from sklearn.ensemble import RandomForestClassifier\n",
        "from sklearn.metrics import classification_report\n",
        "\n",
        "mdl = RandomForestClassifier()\n",
        "mdl.fit(X_train, y_train)\n",
        "\n",
        "ypred = mdl.predict(X_test)\n",
        "\n",
        "print(classification_report(y_test, ypred, target_names= documents_train[\"target_names\"]))"
      ],
      "metadata": {
        "colab": {
          "base_uri": "https://localhost:8080/"
        },
        "id": "CnRyfecC1VBb",
        "outputId": "4d55c729-d55a-4cab-fa59-f9e57392c072"
      },
      "execution_count": 4,
      "outputs": [
        {
          "output_type": "stream",
          "name": "stdout",
          "text": [
            "                precision    recall  f1-score   support\n",
            "\n",
            " comp.graphics       0.72      0.84      0.77       389\n",
            "comp.windows.x       0.89      0.74      0.81       395\n",
            "     rec.autos       0.87      0.92      0.89       396\n",
            "     sci.space       0.95      0.90      0.93       394\n",
            "\n",
            "      accuracy                           0.85      1574\n",
            "     macro avg       0.86      0.85      0.85      1574\n",
            "  weighted avg       0.86      0.85      0.85      1574\n",
            "\n"
          ]
        }
      ]
    },
    {
      "cell_type": "code",
      "source": [
        "from sklearn.feature_extraction.text import TfidfTransformer\n",
        "\n",
        "tf_transformer = TfidfTransformer(use_idf = False)\n",
        "\n",
        "tf_transformer.fit(X_train)\n",
        "\n",
        "X_train_tf = tf_transformer.transform(X_train)\n",
        "X_test_tf = tf_transformer.transform(X_test)\n",
        "\n",
        "mdl.fit(X_train_tf, y_train)\n",
        "\n",
        "ypred = mdl.predict(X_test_tf)\n",
        "\n",
        "print(classification_report(y_test, ypred, target_names= documents_train[\"target_names\"]))"
      ],
      "metadata": {
        "colab": {
          "base_uri": "https://localhost:8080/"
        },
        "id": "h547F2Vv1WxK",
        "outputId": "fa61e4d6-9582-4e7a-e580-7ac1c20cecaa"
      },
      "execution_count": 5,
      "outputs": [
        {
          "output_type": "stream",
          "name": "stdout",
          "text": [
            "                precision    recall  f1-score   support\n",
            "\n",
            " comp.graphics       0.72      0.84      0.77       389\n",
            "comp.windows.x       0.89      0.77      0.82       395\n",
            "     rec.autos       0.88      0.92      0.90       396\n",
            "     sci.space       0.94      0.87      0.91       394\n",
            "\n",
            "      accuracy                           0.85      1574\n",
            "     macro avg       0.86      0.85      0.85      1574\n",
            "  weighted avg       0.86      0.85      0.85      1574\n",
            "\n"
          ]
        }
      ]
    },
    {
      "cell_type": "code",
      "source": [
        "tfidf_transformer = TfidfTransformer(use_idf = True)\n",
        "\n",
        "tfidf_transformer.fit(X_train)\n",
        "\n",
        "X_train_tfidf = tfidf_transformer.transform(X_train)\n",
        "X_test_tfidf = tfidf_transformer.transform(X_test)\n",
        "\n",
        "mdl.fit(X_train_tfidf, y_train)\n",
        "\n",
        "ypred = mdl.predict(X_test_tfidf)\n",
        "\n",
        "print(classification_report(y_test, ypred, target_names= documents_train[\"target_names\"]))"
      ],
      "metadata": {
        "colab": {
          "base_uri": "https://localhost:8080/"
        },
        "id": "WBMJdruM1Ypr",
        "outputId": "8b69a455-1ff8-4e8d-b0c8-164cf4768f7c"
      },
      "execution_count": 6,
      "outputs": [
        {
          "output_type": "stream",
          "name": "stdout",
          "text": [
            "                precision    recall  f1-score   support\n",
            "\n",
            " comp.graphics       0.70      0.83      0.76       389\n",
            "comp.windows.x       0.87      0.73      0.79       395\n",
            "     rec.autos       0.89      0.92      0.90       396\n",
            "     sci.space       0.95      0.89      0.92       394\n",
            "\n",
            "      accuracy                           0.84      1574\n",
            "     macro avg       0.85      0.84      0.84      1574\n",
            "  weighted avg       0.85      0.84      0.84      1574\n",
            "\n"
          ]
        }
      ]
    },
    {
      "cell_type": "code",
      "source": [
        "text_vectorization = layers.TextVectorization(\n",
        "    max_tokens = 10000,\n",
        "    output_mode = \"tf_idf\"\n",
        ")\n",
        "\n",
        "data = [\"Ali ata bak\",\n",
        "        \"Ayşe topu tut\",\n",
        "        \"Ali koş, Ayşe koş\"]\n",
        "\n",
        "text_vectorization.adapt(data)\n",
        "text_vectorization.get_vocabulary()\n"
      ],
      "metadata": {
        "colab": {
          "base_uri": "https://localhost:8080/"
        },
        "id": "IdlmzccJ1aNT",
        "outputId": "a8cb2241-6817-439e-8bbe-ff3305e6873e"
      },
      "execution_count": 7,
      "outputs": [
        {
          "output_type": "execute_result",
          "data": {
            "text/plain": [
              "['[UNK]', 'koş', 'ayşe', 'ali', 'tut', 'topu', 'bak', 'ata']"
            ]
          },
          "metadata": {},
          "execution_count": 7
        }
      ]
    },
    {
      "cell_type": "code",
      "source": [
        "pd.DataFrame(text_vectorization(data).numpy(), columns = text_vectorization.get_vocabulary())"
      ],
      "metadata": {
        "colab": {
          "base_uri": "https://localhost:8080/",
          "height": 143
        },
        "id": "PAfz31zH1b2G",
        "outputId": "c6bfebe1-e3c7-444e-aaba-6f231f085dac"
      },
      "execution_count": 8,
      "outputs": [
        {
          "output_type": "execute_result",
          "data": {
            "text/plain": [
              "   [UNK]       koş      ayşe       ali       tut      topu       bak       ata\n",
              "0    0.0  0.000000  0.000000  0.693147  0.000000  0.000000  0.916291  0.916291\n",
              "1    0.0  0.000000  0.693147  0.000000  0.916291  0.916291  0.000000  0.000000\n",
              "2    0.0  1.832582  0.693147  0.693147  0.000000  0.000000  0.000000  0.000000"
            ],
            "text/html": [
              "\n",
              "  <div id=\"df-420737fe-207c-4464-a6b4-4909808c5452\" class=\"colab-df-container\">\n",
              "    <div>\n",
              "<style scoped>\n",
              "    .dataframe tbody tr th:only-of-type {\n",
              "        vertical-align: middle;\n",
              "    }\n",
              "\n",
              "    .dataframe tbody tr th {\n",
              "        vertical-align: top;\n",
              "    }\n",
              "\n",
              "    .dataframe thead th {\n",
              "        text-align: right;\n",
              "    }\n",
              "</style>\n",
              "<table border=\"1\" class=\"dataframe\">\n",
              "  <thead>\n",
              "    <tr style=\"text-align: right;\">\n",
              "      <th></th>\n",
              "      <th>[UNK]</th>\n",
              "      <th>koş</th>\n",
              "      <th>ayşe</th>\n",
              "      <th>ali</th>\n",
              "      <th>tut</th>\n",
              "      <th>topu</th>\n",
              "      <th>bak</th>\n",
              "      <th>ata</th>\n",
              "    </tr>\n",
              "  </thead>\n",
              "  <tbody>\n",
              "    <tr>\n",
              "      <th>0</th>\n",
              "      <td>0.0</td>\n",
              "      <td>0.000000</td>\n",
              "      <td>0.000000</td>\n",
              "      <td>0.693147</td>\n",
              "      <td>0.000000</td>\n",
              "      <td>0.000000</td>\n",
              "      <td>0.916291</td>\n",
              "      <td>0.916291</td>\n",
              "    </tr>\n",
              "    <tr>\n",
              "      <th>1</th>\n",
              "      <td>0.0</td>\n",
              "      <td>0.000000</td>\n",
              "      <td>0.693147</td>\n",
              "      <td>0.000000</td>\n",
              "      <td>0.916291</td>\n",
              "      <td>0.916291</td>\n",
              "      <td>0.000000</td>\n",
              "      <td>0.000000</td>\n",
              "    </tr>\n",
              "    <tr>\n",
              "      <th>2</th>\n",
              "      <td>0.0</td>\n",
              "      <td>1.832582</td>\n",
              "      <td>0.693147</td>\n",
              "      <td>0.693147</td>\n",
              "      <td>0.000000</td>\n",
              "      <td>0.000000</td>\n",
              "      <td>0.000000</td>\n",
              "      <td>0.000000</td>\n",
              "    </tr>\n",
              "  </tbody>\n",
              "</table>\n",
              "</div>\n",
              "    <div class=\"colab-df-buttons\">\n",
              "\n",
              "  <div class=\"colab-df-container\">\n",
              "    <button class=\"colab-df-convert\" onclick=\"convertToInteractive('df-420737fe-207c-4464-a6b4-4909808c5452')\"\n",
              "            title=\"Convert this dataframe to an interactive table.\"\n",
              "            style=\"display:none;\">\n",
              "\n",
              "  <svg xmlns=\"http://www.w3.org/2000/svg\" height=\"24px\" viewBox=\"0 -960 960 960\">\n",
              "    <path d=\"M120-120v-720h720v720H120Zm60-500h600v-160H180v160Zm220 220h160v-160H400v160Zm0 220h160v-160H400v160ZM180-400h160v-160H180v160Zm440 0h160v-160H620v160ZM180-180h160v-160H180v160Zm440 0h160v-160H620v160Z\"/>\n",
              "  </svg>\n",
              "    </button>\n",
              "\n",
              "  <style>\n",
              "    .colab-df-container {\n",
              "      display:flex;\n",
              "      gap: 12px;\n",
              "    }\n",
              "\n",
              "    .colab-df-convert {\n",
              "      background-color: #E8F0FE;\n",
              "      border: none;\n",
              "      border-radius: 50%;\n",
              "      cursor: pointer;\n",
              "      display: none;\n",
              "      fill: #1967D2;\n",
              "      height: 32px;\n",
              "      padding: 0 0 0 0;\n",
              "      width: 32px;\n",
              "    }\n",
              "\n",
              "    .colab-df-convert:hover {\n",
              "      background-color: #E2EBFA;\n",
              "      box-shadow: 0px 1px 2px rgba(60, 64, 67, 0.3), 0px 1px 3px 1px rgba(60, 64, 67, 0.15);\n",
              "      fill: #174EA6;\n",
              "    }\n",
              "\n",
              "    .colab-df-buttons div {\n",
              "      margin-bottom: 4px;\n",
              "    }\n",
              "\n",
              "    [theme=dark] .colab-df-convert {\n",
              "      background-color: #3B4455;\n",
              "      fill: #D2E3FC;\n",
              "    }\n",
              "\n",
              "    [theme=dark] .colab-df-convert:hover {\n",
              "      background-color: #434B5C;\n",
              "      box-shadow: 0px 1px 3px 1px rgba(0, 0, 0, 0.15);\n",
              "      filter: drop-shadow(0px 1px 2px rgba(0, 0, 0, 0.3));\n",
              "      fill: #FFFFFF;\n",
              "    }\n",
              "  </style>\n",
              "\n",
              "    <script>\n",
              "      const buttonEl =\n",
              "        document.querySelector('#df-420737fe-207c-4464-a6b4-4909808c5452 button.colab-df-convert');\n",
              "      buttonEl.style.display =\n",
              "        google.colab.kernel.accessAllowed ? 'block' : 'none';\n",
              "\n",
              "      async function convertToInteractive(key) {\n",
              "        const element = document.querySelector('#df-420737fe-207c-4464-a6b4-4909808c5452');\n",
              "        const dataTable =\n",
              "          await google.colab.kernel.invokeFunction('convertToInteractive',\n",
              "                                                    [key], {});\n",
              "        if (!dataTable) return;\n",
              "\n",
              "        const docLinkHtml = 'Like what you see? Visit the ' +\n",
              "          '<a target=\"_blank\" href=https://colab.research.google.com/notebooks/data_table.ipynb>data table notebook</a>'\n",
              "          + ' to learn more about interactive tables.';\n",
              "        element.innerHTML = '';\n",
              "        dataTable['output_type'] = 'display_data';\n",
              "        await google.colab.output.renderOutput(dataTable, element);\n",
              "        const docLink = document.createElement('div');\n",
              "        docLink.innerHTML = docLinkHtml;\n",
              "        element.appendChild(docLink);\n",
              "      }\n",
              "    </script>\n",
              "  </div>\n",
              "\n",
              "\n",
              "<div id=\"df-7049cde1-17cf-4f23-bc07-c27dcc4cf99c\">\n",
              "  <button class=\"colab-df-quickchart\" onclick=\"quickchart('df-7049cde1-17cf-4f23-bc07-c27dcc4cf99c')\"\n",
              "            title=\"Suggest charts\"\n",
              "            style=\"display:none;\">\n",
              "\n",
              "<svg xmlns=\"http://www.w3.org/2000/svg\" height=\"24px\"viewBox=\"0 0 24 24\"\n",
              "     width=\"24px\">\n",
              "    <g>\n",
              "        <path d=\"M19 3H5c-1.1 0-2 .9-2 2v14c0 1.1.9 2 2 2h14c1.1 0 2-.9 2-2V5c0-1.1-.9-2-2-2zM9 17H7v-7h2v7zm4 0h-2V7h2v10zm4 0h-2v-4h2v4z\"/>\n",
              "    </g>\n",
              "</svg>\n",
              "  </button>\n",
              "\n",
              "<style>\n",
              "  .colab-df-quickchart {\n",
              "      --bg-color: #E8F0FE;\n",
              "      --fill-color: #1967D2;\n",
              "      --hover-bg-color: #E2EBFA;\n",
              "      --hover-fill-color: #174EA6;\n",
              "      --disabled-fill-color: #AAA;\n",
              "      --disabled-bg-color: #DDD;\n",
              "  }\n",
              "\n",
              "  [theme=dark] .colab-df-quickchart {\n",
              "      --bg-color: #3B4455;\n",
              "      --fill-color: #D2E3FC;\n",
              "      --hover-bg-color: #434B5C;\n",
              "      --hover-fill-color: #FFFFFF;\n",
              "      --disabled-bg-color: #3B4455;\n",
              "      --disabled-fill-color: #666;\n",
              "  }\n",
              "\n",
              "  .colab-df-quickchart {\n",
              "    background-color: var(--bg-color);\n",
              "    border: none;\n",
              "    border-radius: 50%;\n",
              "    cursor: pointer;\n",
              "    display: none;\n",
              "    fill: var(--fill-color);\n",
              "    height: 32px;\n",
              "    padding: 0;\n",
              "    width: 32px;\n",
              "  }\n",
              "\n",
              "  .colab-df-quickchart:hover {\n",
              "    background-color: var(--hover-bg-color);\n",
              "    box-shadow: 0 1px 2px rgba(60, 64, 67, 0.3), 0 1px 3px 1px rgba(60, 64, 67, 0.15);\n",
              "    fill: var(--button-hover-fill-color);\n",
              "  }\n",
              "\n",
              "  .colab-df-quickchart-complete:disabled,\n",
              "  .colab-df-quickchart-complete:disabled:hover {\n",
              "    background-color: var(--disabled-bg-color);\n",
              "    fill: var(--disabled-fill-color);\n",
              "    box-shadow: none;\n",
              "  }\n",
              "\n",
              "  .colab-df-spinner {\n",
              "    border: 2px solid var(--fill-color);\n",
              "    border-color: transparent;\n",
              "    border-bottom-color: var(--fill-color);\n",
              "    animation:\n",
              "      spin 1s steps(1) infinite;\n",
              "  }\n",
              "\n",
              "  @keyframes spin {\n",
              "    0% {\n",
              "      border-color: transparent;\n",
              "      border-bottom-color: var(--fill-color);\n",
              "      border-left-color: var(--fill-color);\n",
              "    }\n",
              "    20% {\n",
              "      border-color: transparent;\n",
              "      border-left-color: var(--fill-color);\n",
              "      border-top-color: var(--fill-color);\n",
              "    }\n",
              "    30% {\n",
              "      border-color: transparent;\n",
              "      border-left-color: var(--fill-color);\n",
              "      border-top-color: var(--fill-color);\n",
              "      border-right-color: var(--fill-color);\n",
              "    }\n",
              "    40% {\n",
              "      border-color: transparent;\n",
              "      border-right-color: var(--fill-color);\n",
              "      border-top-color: var(--fill-color);\n",
              "    }\n",
              "    60% {\n",
              "      border-color: transparent;\n",
              "      border-right-color: var(--fill-color);\n",
              "    }\n",
              "    80% {\n",
              "      border-color: transparent;\n",
              "      border-right-color: var(--fill-color);\n",
              "      border-bottom-color: var(--fill-color);\n",
              "    }\n",
              "    90% {\n",
              "      border-color: transparent;\n",
              "      border-bottom-color: var(--fill-color);\n",
              "    }\n",
              "  }\n",
              "</style>\n",
              "\n",
              "  <script>\n",
              "    async function quickchart(key) {\n",
              "      const quickchartButtonEl =\n",
              "        document.querySelector('#' + key + ' button');\n",
              "      quickchartButtonEl.disabled = true;  // To prevent multiple clicks.\n",
              "      quickchartButtonEl.classList.add('colab-df-spinner');\n",
              "      try {\n",
              "        const charts = await google.colab.kernel.invokeFunction(\n",
              "            'suggestCharts', [key], {});\n",
              "      } catch (error) {\n",
              "        console.error('Error during call to suggestCharts:', error);\n",
              "      }\n",
              "      quickchartButtonEl.classList.remove('colab-df-spinner');\n",
              "      quickchartButtonEl.classList.add('colab-df-quickchart-complete');\n",
              "    }\n",
              "    (() => {\n",
              "      let quickchartButtonEl =\n",
              "        document.querySelector('#df-7049cde1-17cf-4f23-bc07-c27dcc4cf99c button');\n",
              "      quickchartButtonEl.style.display =\n",
              "        google.colab.kernel.accessAllowed ? 'block' : 'none';\n",
              "    })();\n",
              "  </script>\n",
              "</div>\n",
              "\n",
              "    </div>\n",
              "  </div>\n"
            ]
          },
          "metadata": {},
          "execution_count": 8
        }
      ]
    },
    {
      "cell_type": "code",
      "source": [
        "text_vectorization = layers.TextVectorization(\n",
        "    max_tokens = 10000,\n",
        "    output_mode = \"tf_idf\"\n",
        ")\n",
        "text_vectorization.adapt(documents_train[\"data\"])\n",
        "\n",
        "X_train = text_vectorization(documents_train[\"data\"])\n",
        "X_test = text_vectorization(documents_test[\"data\"])\n",
        "\n",
        "mdl = keras.Sequential()\n",
        "mdl.add(layers.Dense(128, activation = \"relu\", input_shape = (X_train.shape[1], ) ))\n",
        "mdl.add(layers.Dense(64, activation = \"relu\" ))\n",
        "mdl.add(layers.Dense(4, activation = \"softmax\"))\n",
        "\n",
        "mdl.compile(optimizer = \"adam\", loss = \"sparse_categorical_crossentropy\", metrics = [\"accuracy\"])\n",
        "mdl.fit(X_train, y_train, epochs = 10)\n"
      ],
      "metadata": {
        "colab": {
          "base_uri": "https://localhost:8080/"
        },
        "id": "tkahZEmx1dN3",
        "outputId": "adc57ca1-c1d8-49fe-b8a6-0f8df22e7f4c"
      },
      "execution_count": 12,
      "outputs": [
        {
          "output_type": "stream",
          "name": "stdout",
          "text": [
            "Epoch 1/10\n",
            "74/74 [==============================] - 1s 3ms/step - loss: 0.6321 - accuracy: 0.8105\n",
            "Epoch 2/10\n",
            "74/74 [==============================] - 0s 3ms/step - loss: 0.0419 - accuracy: 0.9932\n",
            "Epoch 3/10\n",
            "74/74 [==============================] - 0s 3ms/step - loss: 0.0070 - accuracy: 1.0000\n",
            "Epoch 4/10\n",
            "74/74 [==============================] - 0s 3ms/step - loss: 0.0024 - accuracy: 1.0000\n",
            "Epoch 5/10\n",
            "74/74 [==============================] - 0s 3ms/step - loss: 0.0012 - accuracy: 1.0000\n",
            "Epoch 6/10\n",
            "74/74 [==============================] - 0s 3ms/step - loss: 7.2933e-04 - accuracy: 1.0000\n",
            "Epoch 7/10\n",
            "74/74 [==============================] - 0s 3ms/step - loss: 4.7479e-04 - accuracy: 1.0000\n",
            "Epoch 8/10\n",
            "74/74 [==============================] - 0s 3ms/step - loss: 3.3152e-04 - accuracy: 1.0000\n",
            "Epoch 9/10\n",
            "74/74 [==============================] - 0s 3ms/step - loss: 2.4412e-04 - accuracy: 1.0000\n",
            "Epoch 10/10\n",
            "74/74 [==============================] - 0s 3ms/step - loss: 1.8732e-04 - accuracy: 1.0000\n"
          ]
        },
        {
          "output_type": "execute_result",
          "data": {
            "text/plain": [
              "<keras.src.callbacks.History at 0x7c5c9860eb30>"
            ]
          },
          "metadata": {},
          "execution_count": 12
        }
      ]
    },
    {
      "cell_type": "code",
      "source": [
        "mdl.evaluate(X_test, y_test)"
      ],
      "metadata": {
        "colab": {
          "base_uri": "https://localhost:8080/"
        },
        "id": "QtcXDzKQ1ioK",
        "outputId": "c2dc0ce7-8234-4714-beef-56ad1590ad49"
      },
      "execution_count": 13,
      "outputs": [
        {
          "output_type": "stream",
          "name": "stdout",
          "text": [
            "50/50 [==============================] - 0s 5ms/step - loss: 0.3965 - accuracy: 0.9047\n"
          ]
        },
        {
          "output_type": "execute_result",
          "data": {
            "text/plain": [
              "[0.3964623510837555, 0.9047014117240906]"
            ]
          },
          "metadata": {},
          "execution_count": 13
        }
      ]
    },
    {
      "cell_type": "code",
      "source": [
        "text_vectorization = layers.TextVectorization(\n",
        "    max_tokens = 10000,\n",
        "    output_mode = \"int\",\n",
        "    output_sequence_length = 10\n",
        ")\n",
        "text_vectorization.adapt(documents_train[\"data\"])\n",
        "X_train = text_vectorization(documents_train[\"data\"])\n",
        "X_test = text_vectorization(documents_test[\"data\"])\n",
        "\n",
        "X_train = tf.one_hot(X_train, depth = 10000)\n",
        "X_test = tf.one_hot(X_test, depth = 10000)\n",
        "X_train.shape"
      ],
      "metadata": {
        "colab": {
          "base_uri": "https://localhost:8080/"
        },
        "id": "BED04uZw3WAo",
        "outputId": "38763db9-6e52-44a5-f785-11cf8915f38b"
      },
      "execution_count": 28,
      "outputs": [
        {
          "output_type": "execute_result",
          "data": {
            "text/plain": [
              "TensorShape([2364, 10, 10000])"
            ]
          },
          "metadata": {},
          "execution_count": 28
        }
      ]
    },
    {
      "cell_type": "code",
      "source": [
        "mdl = keras.Sequential()\n",
        "mdl.add(layers.LSTM(128, input_shape = X_train.shape[1:]))\n",
        "mdl.add(layers.Dense(128, activation = \"relu\"))\n",
        "mdl.add(layers.Dense(64, activation = \"relu\" ))\n",
        "mdl.add(layers.Dense(4, activation = \"softmax\"))\n",
        "\n",
        "mdl.compile(optimizer = \"adam\", loss = \"sparse_categorical_crossentropy\", metrics = [\"accuracy\"])\n",
        "mdl.fit(X_train, y_train, epochs = 10)"
      ],
      "metadata": {
        "colab": {
          "base_uri": "https://localhost:8080/"
        },
        "id": "Llrzk9Z155oI",
        "outputId": "0417e432-a2bd-4bcf-b31f-8622117e7f27"
      },
      "execution_count": 29,
      "outputs": [
        {
          "output_type": "stream",
          "name": "stdout",
          "text": [
            "Epoch 1/10\n",
            "74/74 [==============================] - 4s 14ms/step - loss: 1.1231 - accuracy: 0.5207\n",
            "Epoch 2/10\n",
            "74/74 [==============================] - 1s 13ms/step - loss: 0.3656 - accuracy: 0.8617\n",
            "Epoch 3/10\n",
            "74/74 [==============================] - 1s 13ms/step - loss: 0.0844 - accuracy: 0.9746\n",
            "Epoch 4/10\n",
            "74/74 [==============================] - 1s 13ms/step - loss: 0.0237 - accuracy: 0.9949\n",
            "Epoch 5/10\n",
            "74/74 [==============================] - 1s 13ms/step - loss: 0.0097 - accuracy: 0.9975\n",
            "Epoch 6/10\n",
            "74/74 [==============================] - 1s 13ms/step - loss: 0.0087 - accuracy: 0.9983\n",
            "Epoch 7/10\n",
            "74/74 [==============================] - 1s 13ms/step - loss: 6.6194e-04 - accuracy: 1.0000\n",
            "Epoch 8/10\n",
            "74/74 [==============================] - 1s 16ms/step - loss: 2.0065e-04 - accuracy: 1.0000\n",
            "Epoch 9/10\n",
            "74/74 [==============================] - 1s 16ms/step - loss: 1.0199e-04 - accuracy: 1.0000\n",
            "Epoch 10/10\n",
            "74/74 [==============================] - 1s 16ms/step - loss: 7.0798e-05 - accuracy: 1.0000\n"
          ]
        },
        {
          "output_type": "execute_result",
          "data": {
            "text/plain": [
              "<keras.src.callbacks.History at 0x7c5c8e382a70>"
            ]
          },
          "metadata": {},
          "execution_count": 29
        }
      ]
    },
    {
      "cell_type": "code",
      "source": [
        "text_vectorization = layers.TextVectorization(\n",
        "    max_tokens = 10000,\n",
        "    output_mode = \"int\",\n",
        "    output_sequence_length = 100\n",
        ")\n",
        "text_vectorization.adapt(documents_train[\"data\"])\n",
        "X_train = text_vectorization(documents_train[\"data\"])\n",
        "X_test = text_vectorization(documents_test[\"data\"])\n"
      ],
      "metadata": {
        "id": "-prVQiDFC8aW"
      },
      "execution_count": 30,
      "outputs": []
    },
    {
      "cell_type": "code",
      "source": [
        "text_vectorization = layers.TextVectorization(\n",
        "    max_tokens = 10000,\n",
        "    output_mode = \"int\",\n",
        "    output_sequence_length = 10\n",
        ")\n",
        "text_vectorization.adapt(documents_train[\"data\"])\n",
        "\n",
        "X_train = text_vectorization(documents_train[\"data\"])\n",
        "X_test = text_vectorization(documents_test[\"data\"])\n",
        "\n",
        "X_train.shape"
      ],
      "metadata": {
        "colab": {
          "base_uri": "https://localhost:8080/"
        },
        "id": "7C_CHsrU6E9A",
        "outputId": "da4b978a-dce3-4b3d-deb9-cc754f75d17a"
      },
      "execution_count": 20,
      "outputs": [
        {
          "output_type": "execute_result",
          "data": {
            "text/plain": [
              "TensorShape([2364, 10])"
            ]
          },
          "metadata": {},
          "execution_count": 20
        }
      ]
    },
    {
      "cell_type": "code",
      "source": [
        "X_train =tf.one_hot(X_train, depth = 10000)\n",
        "X_test =tf.one_hot(X_test, depth = 10000)"
      ],
      "metadata": {
        "id": "L_ZUb-G17qfV"
      },
      "execution_count": 21,
      "outputs": []
    },
    {
      "cell_type": "code",
      "source": [
        "X_train.shape"
      ],
      "metadata": {
        "colab": {
          "base_uri": "https://localhost:8080/"
        },
        "id": "H1bbx9wv8DOY",
        "outputId": "c0c55920-1894-480e-f70f-fc7599afac4b"
      },
      "execution_count": 22,
      "outputs": [
        {
          "output_type": "execute_result",
          "data": {
            "text/plain": [
              "TensorShape([2364, 10, 10000])"
            ]
          },
          "metadata": {},
          "execution_count": 22
        }
      ]
    },
    {
      "cell_type": "code",
      "source": [
        "mdl = keras.Sequential()\n",
        "mdl.add(layers.LSTM(128,input_shape =X_train.shape[1:]  ))\n",
        "mdl.add(layers.Dense(128, activation = \"relu\", input_shape = (X_train.shape[1], ) ))\n",
        "mdl.add(layers.Dense(64, activation = \"relu\" ))\n",
        "mdl.add(layers.Dense(4, activation = \"softmax\"))\n",
        "\n",
        "mdl.compile(optimizer = \"adam\", loss = \"sparse_categorical_crossentropy\", metrics = [\"accuracy\"])\n",
        "mdl.fit(X_train, y_train, epochs = 10)"
      ],
      "metadata": {
        "colab": {
          "base_uri": "https://localhost:8080/"
        },
        "id": "0naaHmkD7dip",
        "outputId": "c969945d-8034-4db4-c86b-c347e24eef4b"
      },
      "execution_count": 23,
      "outputs": [
        {
          "output_type": "stream",
          "name": "stdout",
          "text": [
            "Epoch 1/10\n",
            "74/74 [==============================] - 5s 15ms/step - loss: 1.1395 - accuracy: 0.5004\n",
            "Epoch 2/10\n",
            "74/74 [==============================] - 1s 13ms/step - loss: 0.3876 - accuracy: 0.8583\n",
            "Epoch 3/10\n",
            "74/74 [==============================] - 1s 13ms/step - loss: 0.1127 - accuracy: 0.9585\n",
            "Epoch 4/10\n",
            "74/74 [==============================] - 1s 14ms/step - loss: 0.0510 - accuracy: 0.9843\n",
            "Epoch 5/10\n",
            "74/74 [==============================] - 1s 13ms/step - loss: 0.0184 - accuracy: 0.9958\n",
            "Epoch 6/10\n",
            "74/74 [==============================] - 1s 13ms/step - loss: 0.0119 - accuracy: 0.9962\n",
            "Epoch 7/10\n",
            "74/74 [==============================] - 1s 13ms/step - loss: 0.0050 - accuracy: 0.9992\n",
            "Epoch 8/10\n",
            "74/74 [==============================] - 1s 13ms/step - loss: 4.8201e-04 - accuracy: 1.0000\n",
            "Epoch 9/10\n",
            "74/74 [==============================] - 1s 13ms/step - loss: 1.9780e-04 - accuracy: 1.0000\n",
            "Epoch 10/10\n",
            "74/74 [==============================] - 1s 15ms/step - loss: 1.2146e-04 - accuracy: 1.0000\n"
          ]
        },
        {
          "output_type": "execute_result",
          "data": {
            "text/plain": [
              "<keras.src.callbacks.History at 0x7c5c8cbc2a70>"
            ]
          },
          "metadata": {},
          "execution_count": 23
        }
      ]
    },
    {
      "cell_type": "code",
      "source": [
        "mdl.evaluate(X_test, y_test)"
      ],
      "metadata": {
        "colab": {
          "base_uri": "https://localhost:8080/"
        },
        "id": "hithY6r-8hmT",
        "outputId": "967d337e-a313-4bd4-beca-1649cc50b9d9"
      },
      "execution_count": 24,
      "outputs": [
        {
          "output_type": "stream",
          "name": "stdout",
          "text": [
            "50/50 [==============================] - 1s 14ms/step - loss: 1.1369 - accuracy: 0.7757\n"
          ]
        },
        {
          "output_type": "execute_result",
          "data": {
            "text/plain": [
              "[1.136893391609192, 0.7757306098937988]"
            ]
          },
          "metadata": {},
          "execution_count": 24
        }
      ]
    },
    {
      "cell_type": "code",
      "source": [
        "mdl = keras.Sequential()\n",
        "mdl.add(layers.Embedding(input_dim = 10000, output_dim = 200))\n",
        "mdl.add(layers.LSTM(128))\n",
        "mdl.add(layers.Dense(128, activation = \"relu\"))\n",
        "mdl.add(layers.Dense(64, activation = \"relu\" ))\n",
        "mdl.add(layers.Dense(4, activation = \"softmax\"))\n",
        "\n",
        "mdl.compile(optimizer = \"adam\", loss = \"sparse_categorical_crossentropy\", metrics = [\"accuracy\"])\n",
        "mdl.fit(X_train, y_train, epochs = 10, validation_split = 0.1)"
      ],
      "metadata": {
        "colab": {
          "base_uri": "https://localhost:8080/"
        },
        "id": "79rjDudu8p2p",
        "outputId": "907c5856-c3b9-4857-84d1-90427fee1d41"
      },
      "execution_count": 32,
      "outputs": [
        {
          "output_type": "stream",
          "name": "stdout",
          "text": [
            "Epoch 1/10\n",
            "67/67 [==============================] - 14s 155ms/step - loss: 1.3655 - accuracy: 0.3065 - val_loss: 1.2957 - val_accuracy: 0.4937\n",
            "Epoch 2/10\n",
            "67/67 [==============================] - 4s 64ms/step - loss: 1.2555 - accuracy: 0.3709 - val_loss: 1.3814 - val_accuracy: 0.2321\n",
            "Epoch 3/10\n",
            "67/67 [==============================] - 6s 87ms/step - loss: 1.2349 - accuracy: 0.3550 - val_loss: 0.8787 - val_accuracy: 0.5190\n",
            "Epoch 4/10\n",
            "67/67 [==============================] - 3s 48ms/step - loss: 0.9246 - accuracy: 0.5233 - val_loss: 0.8080 - val_accuracy: 0.5907\n",
            "Epoch 5/10\n",
            "67/67 [==============================] - 2s 35ms/step - loss: 0.6455 - accuracy: 0.6587 - val_loss: 0.6529 - val_accuracy: 0.6751\n",
            "Epoch 6/10\n",
            "67/67 [==============================] - 2s 23ms/step - loss: 0.7031 - accuracy: 0.6544 - val_loss: 1.0172 - val_accuracy: 0.5570\n",
            "Epoch 7/10\n",
            "67/67 [==============================] - 3s 40ms/step - loss: 0.7187 - accuracy: 0.6742 - val_loss: 0.9928 - val_accuracy: 0.5907\n",
            "Epoch 8/10\n",
            "67/67 [==============================] - 2s 34ms/step - loss: 0.4962 - accuracy: 0.7903 - val_loss: 0.5575 - val_accuracy: 0.7595\n",
            "Epoch 9/10\n",
            "67/67 [==============================] - 2s 32ms/step - loss: 0.3467 - accuracy: 0.8688 - val_loss: 0.5442 - val_accuracy: 0.7764\n",
            "Epoch 10/10\n",
            "67/67 [==============================] - 1s 19ms/step - loss: 0.2858 - accuracy: 0.8900 - val_loss: 0.6107 - val_accuracy: 0.8186\n"
          ]
        },
        {
          "output_type": "execute_result",
          "data": {
            "text/plain": [
              "<keras.src.callbacks.History at 0x7c5c9018aaa0>"
            ]
          },
          "metadata": {},
          "execution_count": 32
        }
      ]
    },
    {
      "cell_type": "code",
      "source": [
        "#"
      ],
      "metadata": {
        "id": "BDSl7rnxCR7G"
      },
      "execution_count": null,
      "outputs": []
    },
    {
      "cell_type": "markdown",
      "source": [
        "# **GORUNTU**"
      ],
      "metadata": {
        "id": "ioW_8hrrHB93"
      }
    },
    {
      "cell_type": "code",
      "source": [
        "def make_subset(subset_name, start_index, end_index):\n",
        "    for category in (\"Cat\", \"Dog\"):\n",
        "        dir = new_dir / subset_name / category\n",
        "        os.makedirs(dir, exist_ok =  True)\n",
        "        fnames = [f\"{i}.jpg\" for i in range(start_index,end_index)]\n",
        "        for fname in fnames:\n",
        "            shutil.copyfile(base_dir/category/fname, new_dir/subset_name/category/fname)\n",
        "\n",
        "make_subset(subset_name = \"train\", start_index = 0, end_index = 1000)\n",
        "make_subset(subset_name = \"val\", start_index = 1000, end_index = 1500)\n",
        "make_subset(subset_name = \"test\", start_index = 1500, end_index = 2500)"
      ],
      "metadata": {
        "id": "QoBo06_rHBoO"
      },
      "execution_count": null,
      "outputs": []
    },
    {
      "cell_type": "code",
      "source": [
        "def clean_data(subset_name):\n",
        "    deleted = 0\n",
        "    for category in [\"Cat\", \"Dog\"]:\n",
        "        fnames = os.listdir(new_dir/ subset_name / category)\n",
        "        for fname in fnames:\n",
        "            try:\n",
        "                img_bytes = tf.io.read_file(str(new_dir/ subset_name / category / fname))\n",
        "                decoded_img = tf.io.decode_image(img_bytes)\n",
        "            except:\n",
        "                os.remove(new_dir/ subset_name / category / fname)\n",
        "                deleted += 1\n",
        "\n",
        "    print(deleted, \"number of files\")"
      ],
      "metadata": {
        "id": "p2nO7-lvHGGx"
      },
      "execution_count": null,
      "outputs": []
    },
    {
      "cell_type": "code",
      "source": [
        "def clean_data(subset_name):\n",
        "    deleted = 0\n",
        "    for category in [\"Cat\", \"Dog\"]:\n",
        "        fnames = os.listdir(new_dir/ subset_name / category)\n",
        "        for fname in fnames:\n",
        "            try:\n",
        "                img_bytes = tf.io.read_file(str(new_dir/ subset_name / category / fname))\n",
        "                decoded_img = tf.io.decode_image(img_bytes)\n",
        "            except:\n",
        "                os.remove(new_dir/ subset_name / category / fname)\n",
        "                deleted += 1\n",
        "\n",
        "    print(deleted, \"number of files\")\n",
        "\n",
        "clean_data(\"train\")\n",
        "clean_data(\"val\")\n",
        "clean_data(\"test\")"
      ],
      "metadata": {
        "id": "SE3NfeWJHKaw"
      },
      "execution_count": null,
      "outputs": []
    },
    {
      "cell_type": "code",
      "source": [
        "from tensorflow.keras.utils import image_dataset_from_directory\n",
        "\n",
        "\n",
        "train_data = image_dataset_from_directory(\n",
        "    \"/content/Images/train\",\n",
        "    image_size = (180,180),\n",
        "    batch_size = 32\n",
        ")\n",
        "\n",
        "val_data = image_dataset_from_directory(\n",
        "    \"/content/Images/val\",\n",
        "    image_size = (180,180),\n",
        "    batch_size = 32\n",
        ")\n",
        "\n",
        "test_data = image_dataset_from_directory(\n",
        "    \"/content/Images/test\",\n",
        "    image_size = (180,180),\n",
        "    batch_size = 32\n",
        ")"
      ],
      "metadata": {
        "id": "vEcJ58J7I6I1"
      },
      "execution_count": null,
      "outputs": []
    },
    {
      "cell_type": "code",
      "source": [
        "mdl = keras.Sequential()\n",
        "mdl.add(layers.Rescaling(1/255.0, input_shape = (180,180,3)))\n",
        "mdl.add(layers.Conv2D(128, kernel_size = (3,3), activation = \"relu\"))\n",
        "mdl.add(layers.MaxPool2D(pool_size = (2,2)))\n",
        "mdl.add(layers.Conv2D(64, kernel_size = (3,3), activation = \"relu\"))\n",
        "mdl.add(layers.MaxPool2D(pool_size = (2,2)))\n",
        "mdl.add(layers.Flatten())\n",
        "mdl.add(layers.Dense(128, activation = \"relu\"))\n",
        "mdl.add(layers.Dense(1, activation = \"sigmoid\"))\n",
        "\n",
        "mdl.compile(optimizer = \"adam\", loss = \"binary_crossentropy\", metrics = [\"accuracy\"])\n",
        "mdl.fit(train_data, epochs = 10, validation_data = val_data)"
      ],
      "metadata": {
        "id": "pP5hm15jKM_B"
      },
      "execution_count": null,
      "outputs": []
    },
    {
      "cell_type": "code",
      "source": [
        "data_augmentation = keras.Sequential(\n",
        "    [\n",
        "        layers.RandomFlip(\"horizontal\"),\n",
        "        layers.RandomRotation(0.1),\n",
        "        layers.RandomZoom(0.2)\n",
        "    ]\n",
        ")"
      ],
      "metadata": {
        "id": "hOKxcYvuKMfx"
      },
      "execution_count": null,
      "outputs": []
    },
    {
      "cell_type": "code",
      "source": [
        "vgg = keras.applications.vgg16.VGG16(\n",
        "    weights = \"imagenet\",\n",
        "    include_top = False\n",
        ")\n",
        "vgg.trainable = False"
      ],
      "metadata": {
        "id": "EmcHlyC6KmP_"
      },
      "execution_count": null,
      "outputs": []
    },
    {
      "cell_type": "code",
      "source": [
        "mdl = keras.Sequential()\n",
        "mdl.add(layers.Input(shape = (180,180,3)))\n",
        "mdl.add(vgg)\n",
        "mdl.add(layers.Flatten())\n",
        "mdl.add(layers.Dense(128, activation = \"relu\"))\n",
        "mdl.add(layers.Dense(1, activation = \"sigmoid\"))\n",
        "\n",
        "mdl.compile(optimizer = \"adam\", loss = \"binary_crossentropy\", metrics = [\"accuracy\"])\n",
        "mdl.fit(train_data, epochs = 10, validation_data = val_data)"
      ],
      "metadata": {
        "id": "sAXUZO1wUNKd"
      },
      "execution_count": null,
      "outputs": []
    },
    {
      "cell_type": "code",
      "source": [],
      "metadata": {
        "id": "X0hjF0FmUN4T"
      },
      "execution_count": null,
      "outputs": []
    }
  ]
}