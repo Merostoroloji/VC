{
  "nbformat": 4,
  "nbformat_minor": 0,
  "metadata": {
    "colab": {
      "provenance": [],
      "authorship_tag": "ABX9TyPEwpSrNezbMMaFQY3oJNEp",
      "include_colab_link": true
    },
    "kernelspec": {
      "name": "python3",
      "display_name": "Python 3"
    },
    "language_info": {
      "name": "python"
    }
  },
  "cells": [
    {
      "cell_type": "markdown",
      "metadata": {
        "id": "view-in-github",
        "colab_type": "text"
      },
      "source": [
        "<a href=\"https://colab.research.google.com/github/Merostoroloji/VC/blob/main/NLP.ipynb\" target=\"_parent\"><img src=\"https://colab.research.google.com/assets/colab-badge.svg\" alt=\"Open In Colab\"/></a>"
      ]
    },
    {
      "cell_type": "code",
      "execution_count": 1,
      "metadata": {
        "id": "Nu8-9-VuF_rN"
      },
      "outputs": [],
      "source": [
        "from sklearn.datasets import fetch_20newsgroups\n",
        "\n",
        "documents_train = fetch_20newsgroups(\n",
        "    subset = \"train\",\n",
        "    categories = [\"comp.graphics\", \"comp.windows.x\", \"rec.autos\", \"sci.space\"]\n",
        ")\n",
        "\n",
        "documents_test = fetch_20newsgroups(\n",
        "    subset = \"test\",\n",
        "    categories = [\"comp.graphics\", \"comp.windows.x\", \"rec.autos\", \"sci.space\"]\n",
        ")"
      ]
    },
    {
      "cell_type": "code",
      "source": [
        "print(documents_train[\"data\"][0])"
      ],
      "metadata": {
        "colab": {
          "base_uri": "https://localhost:8080/"
        },
        "id": "_EPRXpXDGFDA",
        "outputId": "2eb08591-2741-4bc5-defd-f2d9782661be"
      },
      "execution_count": 9,
      "outputs": [
        {
          "output_type": "stream",
          "name": "stdout",
          "text": [
            "From: orourke@sophia.smith.edu (Joseph O'Rourke)\n",
            "Subject: Re: Delaunay Triangulation\n",
            "Organization: Smith College, Northampton, MA, US\n",
            "Lines: 22\n",
            "\n",
            "In article <lsk1v9INN93c@caspian.usc.edu> zyeh@caspian.usc.edu (zhenghao yeh) writes:\n",
            ">\n",
            ">Does anybody know what Delaunay Triangulation is?\n",
            ">Is there any reference to it? \n",
            ">Is it useful for creating 3-D objects? If yes, what's the advantage?\n",
            "\n",
            "There is a vast literature on Delaunay triangulations, literally\n",
            "hundreds of papers.  A program is even provided with every copy of \n",
            "Mathematica nowadays.  You might look at this if you are interested in \n",
            "using it for creating 3D objects:\n",
            "\n",
            "@article{Boissonnat5,\n",
            "  author = \"J.D. Boissonnat\",\n",
            "  title = \"Geometric Structures for Three-Dimensional Shape Representation\",\n",
            "  journal = \"ACM Transactions on Graphics\",\n",
            "  month = \"October\",\n",
            "  year = {1984},\n",
            "  volume = {3},\n",
            "  number = {4},\n",
            "  pages = {266-286}\n",
            "}\n",
            "\n",
            "\n"
          ]
        }
      ]
    },
    {
      "cell_type": "code",
      "source": [
        ";print(documents_train[\"data\"][0])\n",
        "print(documents_train[\"target\"][0])\n",
        "print(documents_train[\"target_names\"])"
      ],
      "metadata": {
        "colab": {
          "base_uri": "https://localhost:8080/"
        },
        "id": "x0kkvYnnGPMh",
        "outputId": "b06babfd-3050-4ec1-c79a-b97fe496f9be"
      },
      "execution_count": 7,
      "outputs": [
        {
          "output_type": "stream",
          "name": "stdout",
          "text": [
            "From: orourke@sophia.smith.edu (Joseph O'Rourke)\n",
            "Subject: Re: Delaunay Triangulation\n",
            "Organization: Smith College, Northampton, MA, US\n",
            "Lines: 22\n",
            "\n",
            "In article <lsk1v9INN93c@caspian.usc.edu> zyeh@caspian.usc.edu (zhenghao yeh) writes:\n",
            ">\n",
            ">Does anybody know what Delaunay Triangulation is?\n",
            ">Is there any reference to it? \n",
            ">Is it useful for creating 3-D objects? If yes, what's the advantage?\n",
            "\n",
            "There is a vast literature on Delaunay triangulations, literally\n",
            "hundreds of papers.  A program is even provided with every copy of \n",
            "Mathematica nowadays.  You might look at this if you are interested in \n",
            "using it for creating 3D objects:\n",
            "\n",
            "@article{Boissonnat5,\n",
            "  author = \"J.D. Boissonnat\",\n",
            "  title = \"Geometric Structures for Three-Dimensional Shape Representation\",\n",
            "  journal = \"ACM Transactions on Graphics\",\n",
            "  month = \"October\",\n",
            "  year = {1984},\n",
            "  volume = {3},\n",
            "  number = {4},\n",
            "  pages = {266-286}\n",
            "}\n",
            "\n",
            "\n",
            "0\n",
            "['comp.graphics', 'comp.windows.x', 'rec.autos', 'sci.space']\n"
          ]
        }
      ]
    },
    {
      "cell_type": "code",
      "source": [
        "from sklearn.feature_extraction.text import CountVectorizer\n",
        "\n",
        "vectorizer = CountVectorizer()\n",
        "vectorizer.fit(documents_train[\"data\"])\n",
        "vectorizer.vocabulary_"
      ],
      "metadata": {
        "id": "e224NvttGgYy"
      },
      "execution_count": null,
      "outputs": []
    },
    {
      "cell_type": "code",
      "source": [
        "x_train = vectorizer.transform(documents_train[\"data\"])"
      ],
      "metadata": {
        "id": "cju0vTxLIJM9"
      },
      "execution_count": 11,
      "outputs": []
    },
    {
      "cell_type": "code",
      "source": [
        "x_test = vectorizer.transform(documents_test[\"data\"])"
      ],
      "metadata": {
        "id": "A0uPiPn3IWfi"
      },
      "execution_count": 13,
      "outputs": []
    },
    {
      "cell_type": "code",
      "source": [
        "y_train = documents_train[\"target\"]\n",
        "y_test =  documents_test[\"target\"]"
      ],
      "metadata": {
        "id": "GBphHVeUJOxj"
      },
      "execution_count": 16,
      "outputs": []
    },
    {
      "cell_type": "code",
      "source": [
        "from sklearn.ensemble import RandomForestClassifier\n",
        "from sklearn.metrics import classification_report\n",
        "\n",
        "mdl = RandomForestClassifier()\n",
        "mdl.fit(x_train, y_train)\n",
        "y_pred = mdl.predict(x_test)\n",
        "print(classification_report(y_test,y_pred,target_names = documents_train[\"target_names\"]))"
      ],
      "metadata": {
        "colab": {
          "base_uri": "https://localhost:8080/"
        },
        "id": "4WJKv1OLIbBG",
        "outputId": "4e4ea4ea-e8e8-4e56-fcf2-aa9217b86d5b"
      },
      "execution_count": 19,
      "outputs": [
        {
          "output_type": "stream",
          "name": "stdout",
          "text": [
            "                precision    recall  f1-score   support\n",
            "\n",
            " comp.graphics       0.71      0.87      0.78       389\n",
            "comp.windows.x       0.91      0.75      0.82       395\n",
            "     rec.autos       0.88      0.92      0.90       396\n",
            "     sci.space       0.95      0.88      0.92       394\n",
            "\n",
            "      accuracy                           0.85      1574\n",
            "     macro avg       0.87      0.85      0.86      1574\n",
            "  weighted avg       0.87      0.85      0.86      1574\n",
            "\n"
          ]
        }
      ]
    },
    {
      "cell_type": "code",
      "source": [
        "from sklearn.feature_extraction.text import TfidfTransformer"
      ],
      "metadata": {
        "id": "_HFGoFDSJsri"
      },
      "execution_count": 20,
      "outputs": []
    },
    {
      "cell_type": "code",
      "source": [
        "tf_transformer = TfidfTransformer(use_idf = False)\n",
        "tf_transformer.fit(x_train)\n",
        "\n",
        "x_train_tf = tf_transformer.transform(x_train)\n",
        "x_test_tf =  tf_transformer.transform(x_test)\n",
        "x_train_tf.sum(axis=0)"
      ],
      "metadata": {
        "colab": {
          "base_uri": "https://localhost:8080/"
        },
        "id": "ShBhhU-EKo8G",
        "outputId": "89c91a0b-7ad9-4b5c-8022-5b802d6c4530"
      },
      "execution_count": 21,
      "outputs": [
        {
          "output_type": "execute_result",
          "data": {
            "text/plain": [
              "matrix([[5.13157891, 5.74087662, 0.11396911, ..., 0.03437314, 0.02598499,\n",
              "         0.14055689]])"
            ]
          },
          "metadata": {},
          "execution_count": 21
        }
      ]
    },
    {
      "cell_type": "code",
      "source": [
        "mdl = RandomForestClassifier()\n",
        "mdl.fit(x_train_tf, y_train)\n",
        "y_pred = mdl.predict(x_test_tf)\n",
        "print(classification_report(y_test,y_pred,target_names = documents_train[\"target_names\"]))"
      ],
      "metadata": {
        "colab": {
          "base_uri": "https://localhost:8080/"
        },
        "id": "J-tSz_o_LHOg",
        "outputId": "52853a85-8d5d-4188-e3d2-71548469bbfd"
      },
      "execution_count": 22,
      "outputs": [
        {
          "output_type": "stream",
          "name": "stdout",
          "text": [
            "                precision    recall  f1-score   support\n",
            "\n",
            " comp.graphics       0.69      0.85      0.76       389\n",
            "comp.windows.x       0.88      0.73      0.80       395\n",
            "     rec.autos       0.92      0.90      0.91       396\n",
            "     sci.space       0.95      0.90      0.93       394\n",
            "\n",
            "      accuracy                           0.85      1574\n",
            "     macro avg       0.86      0.85      0.85      1574\n",
            "  weighted avg       0.86      0.85      0.85      1574\n",
            "\n"
          ]
        }
      ]
    },
    {
      "cell_type": "code",
      "source": [],
      "metadata": {
        "id": "zWng1HOaMI8o"
      },
      "execution_count": null,
      "outputs": []
    }
  ]
}